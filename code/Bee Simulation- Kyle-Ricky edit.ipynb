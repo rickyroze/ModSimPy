{
 "cells": [
  {
   "cell_type": "code",
   "execution_count": 1,
   "metadata": {},
   "outputs": [],
   "source": [
    "%matplotlib inline\n",
    "\n",
    "from modsim import *"
   ]
  },
  {
   "cell_type": "code",
   "execution_count": 2,
   "metadata": {},
   "outputs": [
    {
     "data": {
      "text/html": [
       "<div>\n",
       "<style>\n",
       "    .dataframe thead tr:only-child th {\n",
       "        text-align: right;\n",
       "    }\n",
       "\n",
       "    .dataframe thead th {\n",
       "        text-align: left;\n",
       "    }\n",
       "\n",
       "    .dataframe tbody tr th {\n",
       "        vertical-align: top;\n",
       "    }\n",
       "</style>\n",
       "<table border=\"1\" class=\"dataframe\">\n",
       "  <thead>\n",
       "    <tr style=\"text-align: right;\">\n",
       "      <th></th>\n",
       "      <th>value</th>\n",
       "    </tr>\n",
       "  </thead>\n",
       "  <tbody>\n",
       "    <tr>\n",
       "      <th>t0</th>\n",
       "      <td>0.00000</td>\n",
       "    </tr>\n",
       "    <tr>\n",
       "      <th>t_end</th>\n",
       "      <td>180.00000</td>\n",
       "    </tr>\n",
       "    <tr>\n",
       "      <th>adult_pop0</th>\n",
       "      <td>15000.00000</td>\n",
       "    </tr>\n",
       "    <tr>\n",
       "      <th>eggs_pop0</th>\n",
       "      <td>0.00000</td>\n",
       "    </tr>\n",
       "    <tr>\n",
       "      <th>larvae_pop0</th>\n",
       "      <td>0.00000</td>\n",
       "    </tr>\n",
       "    <tr>\n",
       "      <th>hatch_time</th>\n",
       "      <td>0.33000</td>\n",
       "    </tr>\n",
       "    <tr>\n",
       "      <th>mature_time</th>\n",
       "      <td>0.05556</td>\n",
       "    </tr>\n",
       "    <tr>\n",
       "      <th>birth_rate</th>\n",
       "      <td>0.40000</td>\n",
       "    </tr>\n",
       "    <tr>\n",
       "      <th>death_rate</th>\n",
       "      <td>0.05000</td>\n",
       "    </tr>\n",
       "    <tr>\n",
       "      <th>larvae_death_rate</th>\n",
       "      <td>0.15000</td>\n",
       "    </tr>\n",
       "    <tr>\n",
       "      <th>swarm_size</th>\n",
       "      <td>40000.00000</td>\n",
       "    </tr>\n",
       "  </tbody>\n",
       "</table>\n",
       "</div>"
      ],
      "text/plain": [
       "t0                       0.00000\n",
       "t_end                  180.00000\n",
       "adult_pop0           15000.00000\n",
       "eggs_pop0                0.00000\n",
       "larvae_pop0              0.00000\n",
       "hatch_time               0.33000\n",
       "mature_time              0.05556\n",
       "birth_rate               0.40000\n",
       "death_rate               0.05000\n",
       "larvae_death_rate        0.15000\n",
       "swarm_size           40000.00000\n",
       "dtype: float64"
      ]
     },
     "execution_count": 2,
     "metadata": {},
     "output_type": "execute_result"
    }
   ],
   "source": [
    "bees = System(t0 = 0, \n",
    "                t_end = 180,\n",
    "                adult_pop0 = 15000,\n",
    "                eggs_pop0 = 0,\n",
    "                larvae_pop0 = 0,\n",
    "                hatch_time = .33, \n",
    "                mature_time = .05556,\n",
    "                birth_rate = .4,\n",
    "                death_rate = .05,\n",
    "                larvae_death_rate = .15,\n",
    "                swarm_size = 40000)\n",
    "\n",
    "bees"
   ]
  },
  {
   "cell_type": "code",
   "execution_count": 3,
   "metadata": {
    "collapsed": true
   },
   "outputs": [],
   "source": [
    "def Var_birth_death_rate(system,t):\n",
    "    if 1<t<45:\n",
    "        system.birth_rate=0\n",
    "        system.death_rate=0\n",
    "    if 46<t<106:\n",
    "        system.birth_rate=200\n",
    "        system.death_rate=0\n",
    "    if 107<t<258:\n",
    "        system.birth_rate=0\n",
    "        system.death_rate=0\n",
    "    if 259<t<314:\n",
    "        system.birth_rate=0\n",
    "        system.death_rate=0\n",
    "    if 315<t<360:\n",
    "        system.birth_rate=0\n",
    "        system.death_rate=0\n",
    "    \n",
    "        "
   ]
  },
  {
   "cell_type": "code",
   "execution_count": 4,
   "metadata": {
    "collapsed": true
   },
   "outputs": [],
   "source": [
    "def Var_birth_death_rate1(system,t):\n",
    "    if 1<t<45:\n",
    "        births=0\n",
    "        system.death_rate=.05\n",
    "    if 46<t<106:\n",
    "        births=200\n",
    "        system.death_rate=.05\n",
    "    if 107<t<258:\n",
    "        births=818\n",
    "        system.death_rate=.05\n",
    "    if 259<t<314:\n",
    "        births= 200\n",
    "        system.death_rate=.05\n",
    "    if 315<t<360:\n",
    "        births=0\n",
    "        system.death_rate=.05"
   ]
  },
  {
   "cell_type": "code",
   "execution_count": null,
   "metadata": {
    "collapsed": true
   },
   "outputs": [],
   "source": []
  },
  {
   "cell_type": "code",
   "execution_count": null,
   "metadata": {
    "collapsed": true
   },
   "outputs": [],
   "source": []
  },
  {
   "cell_type": "code",
   "execution_count": 5,
   "metadata": {},
   "outputs": [
    {
     "ename": "NameError",
     "evalue": "name 'run_simulation' is not defined",
     "output_type": "error",
     "traceback": [
      "\u001b[1;31m---------------------------------------------------------------------------\u001b[0m",
      "\u001b[1;31mNameError\u001b[0m                                 Traceback (most recent call last)",
      "\u001b[1;32m<ipython-input-5-3153e3cdda07>\u001b[0m in \u001b[0;36m<module>\u001b[1;34m()\u001b[0m\n\u001b[1;32m----> 1\u001b[1;33m \u001b[0mrun_simulation\u001b[0m\u001b[1;33m(\u001b[0m\u001b[0mbees\u001b[0m\u001b[1;33m,\u001b[0m\u001b[0mVar_birth_death_rate\u001b[0m\u001b[1;33m)\u001b[0m\u001b[1;33m\u001b[0m\u001b[0m\n\u001b[0m\u001b[0;32m      2\u001b[0m \u001b[0mbees\u001b[0m\u001b[1;33m.\u001b[0m\u001b[0madults\u001b[0m\u001b[1;33m\u001b[0m\u001b[0m\n",
      "\u001b[1;31mNameError\u001b[0m: name 'run_simulation' is not defined"
     ]
    }
   ],
   "source": [
    "run_simulation(bees,Var_birth_death_rate)\n",
    "bees.adults"
   ]
  },
  {
   "cell_type": "code",
   "execution_count": 6,
   "metadata": {
    "collapsed": true
   },
   "outputs": [],
   "source": [
    "def plot_results(system, title=None):\n",
    "    \"\"\"Plot the estimates and the model.\n",
    "    \n",
    "    system: System object with `results`\n",
    "    \"\"\"\n",
    "    newfig()\n",
    "    plot(system.adults, 'bo-', label='adults')\n",
    "    plot(system.eggs, 'ro-', label='eggs')\n",
    "    plot(system.larvae, 'go-', label='larvae') \n",
    "    decorate(xlabel='Day', \n",
    "             ylabel='bee population',\n",
    "             title=title)"
   ]
  },
  {
   "cell_type": "code",
   "execution_count": 7,
   "metadata": {},
   "outputs": [
    {
     "ename": "NameError",
     "evalue": "name 'run_simulation' is not defined",
     "output_type": "error",
     "traceback": [
      "\u001b[1;31m---------------------------------------------------------------------------\u001b[0m",
      "\u001b[1;31mNameError\u001b[0m                                 Traceback (most recent call last)",
      "\u001b[1;32m<ipython-input-7-178fe69a9f49>\u001b[0m in \u001b[0;36m<module>\u001b[1;34m()\u001b[0m\n\u001b[1;32m----> 1\u001b[1;33m \u001b[0mrun_simulation\u001b[0m\u001b[1;33m(\u001b[0m\u001b[0mbees\u001b[0m\u001b[1;33m,\u001b[0m\u001b[0mVar_birth_death_rate\u001b[0m\u001b[1;33m)\u001b[0m\u001b[1;33m\u001b[0m\u001b[0m\n\u001b[0m\u001b[0;32m      2\u001b[0m \u001b[0mplot_results\u001b[0m\u001b[1;33m(\u001b[0m\u001b[0mbees\u001b[0m\u001b[1;33m)\u001b[0m\u001b[1;33m\u001b[0m\u001b[0m\n",
      "\u001b[1;31mNameError\u001b[0m: name 'run_simulation' is not defined"
     ]
    }
   ],
   "source": [
    "run_simulation(bees,Var_birth_death_rate)\n",
    "plot_results(bees)"
   ]
  },
  {
   "cell_type": "code",
   "execution_count": 8,
   "metadata": {},
   "outputs": [
    {
     "data": {
      "text/html": [
       "<div>\n",
       "<style>\n",
       "    .dataframe thead tr:only-child th {\n",
       "        text-align: right;\n",
       "    }\n",
       "\n",
       "    .dataframe thead th {\n",
       "        text-align: left;\n",
       "    }\n",
       "\n",
       "    .dataframe tbody tr th {\n",
       "        vertical-align: top;\n",
       "    }\n",
       "</style>\n",
       "<table border=\"1\" class=\"dataframe\">\n",
       "  <thead>\n",
       "    <tr style=\"text-align: right;\">\n",
       "      <th></th>\n",
       "      <th>value</th>\n",
       "    </tr>\n",
       "  </thead>\n",
       "  <tbody>\n",
       "    <tr>\n",
       "      <th>t0</th>\n",
       "      <td>0.00000</td>\n",
       "    </tr>\n",
       "    <tr>\n",
       "      <th>t_end</th>\n",
       "      <td>365.00000</td>\n",
       "    </tr>\n",
       "    <tr>\n",
       "      <th>adult_pop0</th>\n",
       "      <td>40000.00000</td>\n",
       "    </tr>\n",
       "    <tr>\n",
       "      <th>eggs_pop0</th>\n",
       "      <td>0.00000</td>\n",
       "    </tr>\n",
       "    <tr>\n",
       "      <th>larvae_pop0</th>\n",
       "      <td>0.00000</td>\n",
       "    </tr>\n",
       "    <tr>\n",
       "      <th>hatch_time</th>\n",
       "      <td>0.33000</td>\n",
       "    </tr>\n",
       "    <tr>\n",
       "      <th>mature_time</th>\n",
       "      <td>0.05556</td>\n",
       "    </tr>\n",
       "    <tr>\n",
       "      <th>birth_rate</th>\n",
       "      <td>0.40000</td>\n",
       "    </tr>\n",
       "    <tr>\n",
       "      <th>death_rate</th>\n",
       "      <td>0.05000</td>\n",
       "    </tr>\n",
       "    <tr>\n",
       "      <th>larvae_death_rate</th>\n",
       "      <td>0.10000</td>\n",
       "    </tr>\n",
       "    <tr>\n",
       "      <th>swarm_size</th>\n",
       "      <td>40000.00000</td>\n",
       "    </tr>\n",
       "    <tr>\n",
       "      <th>births</th>\n",
       "      <td>0.00000</td>\n",
       "    </tr>\n",
       "  </tbody>\n",
       "</table>\n",
       "</div>"
      ],
      "text/plain": [
       "t0                       0.00000\n",
       "t_end                  365.00000\n",
       "adult_pop0           40000.00000\n",
       "eggs_pop0                0.00000\n",
       "larvae_pop0              0.00000\n",
       "hatch_time               0.33000\n",
       "mature_time              0.05556\n",
       "birth_rate               0.40000\n",
       "death_rate               0.05000\n",
       "larvae_death_rate        0.10000\n",
       "swarm_size           40000.00000\n",
       "births                   0.00000\n",
       "dtype: float64"
      ]
     },
     "execution_count": 8,
     "metadata": {},
     "output_type": "execute_result"
    }
   ],
   "source": [
    "bees = System(t0 = 0, \n",
    "                t_end = 365,\n",
    "                adult_pop0 = 40000,\n",
    "                eggs_pop0 = 0,\n",
    "                larvae_pop0 = 0,\n",
    "                hatch_time = .33, \n",
    "                mature_time = .05556,\n",
    "                birth_rate = .4,\n",
    "                death_rate = .05,\n",
    "                larvae_death_rate = 0.1,\n",
    "                swarm_size = 40000,\n",
    "                births = 0)\n",
    "\n",
    "bees"
   ]
  },
  {
   "cell_type": "code",
   "execution_count": 9,
   "metadata": {
    "collapsed": true
   },
   "outputs": [],
   "source": [
    "def Var_birth_death_rate1(system,t):\n",
    "    if 1<t<30:   #jan\n",
    "        system.birth_rate=0\n",
    "        system.death_rate=.001\n",
    "    if 31<t<60: #feb\n",
    "        system.birth_rate=0\n",
    "        system.death_rate=.003\n",
    "    if 61<t<90:   #mar\n",
    "        system.birth_rate=.028\n",
    "        system.death_rate=.01\n",
    "    if 91<t<120:   #apr\n",
    "        system.birth_rate=.042\n",
    "        system.death_rate=.02\n",
    "    if 121<t<150:   #may\n",
    "        system.birth_rate=.05\n",
    "        system.death_rate=.03\n",
    "    if 151<t<181:   #jun\n",
    "        system.birth_rate=.065\n",
    "        system.death_rate=.03\n",
    "    if 181<t<210:   #jul\n",
    "        system.birth_rate=.075\n",
    "        system.death_rate=.035\n",
    "    if 211<t<240:   #aug\n",
    "        system.birth_rate=.065\n",
    "        system.death_rate=.04\n",
    "    if 241<t<270:   #sep\n",
    "        system.birth_rate=.051\n",
    "        system.death_rate=.045\n",
    "    if 271<t<300:   #oct\n",
    "        system.birth_rate=.042\n",
    "        system.death_rate=.04\n",
    "    if 301<t<330:   #nov\n",
    "        system.birth_rate=.028\n",
    "        system.death_rate=.03\n",
    "    if 331<t<365:   #dec\n",
    "        system.birth_rate=0\n",
    "        system.death_rate=.003"
   ]
  },
  {
   "cell_type": "code",
   "execution_count": 10,
   "metadata": {
    "collapsed": true
   },
   "outputs": [],
   "source": [
    "def run_simulation(system,birth_death):\n",
    "    \"\"\"Runs a proportional growth model.\n",
    "    \n",
    "    Adds TimeSeries to `system` as `results`.\n",
    "    \n",
    "    system: System object with t0, t_end, p0,\n",
    "            birth_rate and death_rate\n",
    "    \"\"\"\n",
    "    eggs = TimeSeries()\n",
    "    eggs[system.t0] = system.eggs_pop0\n",
    "    \n",
    "    larvae = TimeSeries()\n",
    "    larvae[system.t0] = system.larvae_pop0\n",
    "    \n",
    "    adults = TimeSeries()\n",
    "    adults[system.t0] = system.adult_pop0\n",
    "    \n",
    "    for t in linrange(system.t0, system.t_end):\n",
    "        #birth_death(system,t)\n",
    "        births = system.birth_rate * adults[t]\n",
    "        adult_deaths = system.death_rate * adults[t]\n",
    "        larvae_deaths = system.death_rate * larvae[t]\n",
    "        new_larvae = system.hatch_time * eggs[t]\n",
    "        new_adults = system.mature_time * larvae[t]\n",
    "        \n",
    "        eggs[t+1] = eggs[t] + births - new_larvae\n",
    "        larvae[t+1] = larvae[t] + new_larvae - new_adults - larvae_deaths\n",
    "        adults[t+1] = adults[t] + new_adults - adult_deaths\n",
    "        \n",
    "    system.adults = adults\n",
    "    system.eggs = eggs\n",
    "    system.larvae = larvae"
   ]
  },
  {
   "cell_type": "code",
   "execution_count": 11,
   "metadata": {},
   "outputs": [
    {
     "data": {
      "image/png": "[encoded data removed]",
      "text/plain": [
       "<matplotlib.figure.Figure at 0x2847230de80>"
      ]
     },
     "metadata": {},
     "output_type": "display_data"
    }
   ],
   "source": [
    "bees.adult_pop0 = 1000\n",
    "run_simulation(bees,Var_birth_death_rate1)\n",
    "plot_results(bees)"
   ]
  },
  {
   "cell_type": "code",
   "execution_count": 12,
   "metadata": {},
   "outputs": [
    {
     "data": {
      "text/html": [
       "<div>\n",
       "<style>\n",
       "    .dataframe thead tr:only-child th {\n",
       "        text-align: right;\n",
       "    }\n",
       "\n",
       "    .dataframe thead th {\n",
       "        text-align: left;\n",
       "    }\n",
       "\n",
       "    .dataframe tbody tr th {\n",
       "        vertical-align: top;\n",
       "    }\n",
       "</style>\n",
       "<table border=\"1\" class=\"dataframe\">\n",
       "  <thead>\n",
       "    <tr style=\"text-align: right;\">\n",
       "      <th></th>\n",
       "      <th>value</th>\n",
       "    </tr>\n",
       "  </thead>\n",
       "  <tbody>\n",
       "    <tr>\n",
       "      <th>t0</th>\n",
       "      <td>0.00</td>\n",
       "    </tr>\n",
       "    <tr>\n",
       "      <th>t_end</th>\n",
       "      <td>365.00</td>\n",
       "    </tr>\n",
       "    <tr>\n",
       "      <th>adult_pop0</th>\n",
       "      <td>40000.00</td>\n",
       "    </tr>\n",
       "    <tr>\n",
       "      <th>eggs_pop0</th>\n",
       "      <td>0.00</td>\n",
       "    </tr>\n",
       "    <tr>\n",
       "      <th>larvae_pop0</th>\n",
       "      <td>0.00</td>\n",
       "    </tr>\n",
       "    <tr>\n",
       "      <th>hatch_time</th>\n",
       "      <td>0.33</td>\n",
       "    </tr>\n",
       "    <tr>\n",
       "      <th>mature_time</th>\n",
       "      <td>0.20</td>\n",
       "    </tr>\n",
       "    <tr>\n",
       "      <th>birth_rate</th>\n",
       "      <td>0.40</td>\n",
       "    </tr>\n",
       "    <tr>\n",
       "      <th>death_rate</th>\n",
       "      <td>0.05</td>\n",
       "    </tr>\n",
       "    <tr>\n",
       "      <th>larvae_death_rate</th>\n",
       "      <td>0.01</td>\n",
       "    </tr>\n",
       "    <tr>\n",
       "      <th>swarm_size</th>\n",
       "      <td>30000.00</td>\n",
       "    </tr>\n",
       "    <tr>\n",
       "      <th>births</th>\n",
       "      <td>0.00</td>\n",
       "    </tr>\n",
       "    <tr>\n",
       "      <th>deaths</th>\n",
       "      <td>0.00</td>\n",
       "    </tr>\n",
       "  </tbody>\n",
       "</table>\n",
       "</div>"
      ],
      "text/plain": [
       "t0                       0.00\n",
       "t_end                  365.00\n",
       "adult_pop0           40000.00\n",
       "eggs_pop0                0.00\n",
       "larvae_pop0              0.00\n",
       "hatch_time               0.33\n",
       "mature_time              0.20\n",
       "birth_rate               0.40\n",
       "death_rate               0.05\n",
       "larvae_death_rate        0.01\n",
       "swarm_size           30000.00\n",
       "births                   0.00\n",
       "deaths                   0.00\n",
       "dtype: float64"
      ]
     },
     "execution_count": 12,
     "metadata": {},
     "output_type": "execute_result"
    }
   ],
   "source": [
    "bees = System(t0 = 0, \n",
    "                t_end = 365,\n",
    "                adult_pop0 = 40000,\n",
    "                eggs_pop0 = 0,\n",
    "                larvae_pop0 = 0,\n",
    "                hatch_time = .33, \n",
    "                #mature_time = .05556,\n",
    "                mature_time = .2,\n",
    "                birth_rate = .4,\n",
    "                death_rate = .05,\n",
    "                larvae_death_rate = 0.01,\n",
    "                swarm_size = 30000,\n",
    "                births=0,\n",
    "                deaths=0)\n",
    "\n",
    "bees"
   ]
  },
  {
   "cell_type": "code",
   "execution_count": 13,
   "metadata": {
    "collapsed": true
   },
   "outputs": [],
   "source": [
    "def swarm(system):\n",
    "    if adults[t+1]>system.swarm_size:\n",
    "        adults[t+1]=.5*(adults[t] + new_adults - adult_deaths)\n",
    "    else:\n",
    "        adults[t+1] = adults[t] + new_adults - adult_deaths"
   ]
  },
  {
   "cell_type": "code",
   "execution_count": 18,
   "metadata": {
    "collapsed": true
   },
   "outputs": [],
   "source": [
    "def Var_birth_death_rate2(system,t):\n",
    "    if 1<t<30:   #jan\n",
    "        system.births=0\n",
    "        system.birth_rate=0\n",
    "        system.death_rate=.001\n",
    "    if 31<t<60: #feb\n",
    "        system.births=0\n",
    "        system.birth_rate=0\n",
    "        system.death_rate=.003\n",
    "    if 61<t<90:   #mar\n",
    "        system.births=420\n",
    "        system.birth_rate=.028\n",
    "        system.death_rate=.01\n",
    "    if 91<t<120:   #apr\n",
    "        system.births=630\n",
    "        system.birth_rate=.042\n",
    "        system.death_rate=.02\n",
    "    if 121<t<150:   #may\n",
    "        system.births=750\n",
    "        system.birth_rate=.05\n",
    "        system.death_rate=.03\n",
    "    if 151<t<181:   #jun\n",
    "        system.births=975\n",
    "        system.birth_rate=.062\n",
    "        system.death_rate=.03\n",
    "    if 181<t<210:   #jul\n",
    "        system.births=1125\n",
    "        system.birth_rate=.075\n",
    "        system.death_rate=.035\n",
    "    if 211<t<240:   #aug\n",
    "        system.births=975\n",
    "        system.birth_rate=.065\n",
    "        system.death_rate=.037\n",
    "    if 241<t<270:   #sep\n",
    "        system.births=765\n",
    "        system.birth_rate=.051\n",
    "        system.death_rate=.042\n",
    "    if 271<t<300:   #oct\n",
    "        system.births=630\n",
    "        system.birth_rate=.042\n",
    "        system.death_rate=.04\n",
    "    if 301<t<330:   #nov\n",
    "        system.births=420\n",
    "        system.birth_rate=.028\n",
    "        system.death_rate=.03\n",
    "    if 331<t<365:   #dec\n",
    "        system.births=0\n",
    "        system.birth_rate=0\n",
    "        system.death_rate=.003"
   ]
  },
  {
   "cell_type": "code",
   "execution_count": 19,
   "metadata": {
    "collapsed": true
   },
   "outputs": [],
   "source": [
    "def Var_birth_death_rate3(system,t):\n",
    "    for t in linrange(0,365, 10) :\n",
    "        system.deaths= 1+1*np.sin(t*.0086071*2)\n",
    "        system.births= 10+10*np.sin((365-t)*.0086071*2)\n",
    "        #pop= births-deaths\n",
    "        #plot(t, pop, 'b-')"
   ]
  },
  {
   "cell_type": "code",
   "execution_count": 20,
   "metadata": {
    "collapsed": true
   },
   "outputs": [],
   "source": [
    "def run_simulation1(system,birth_death):\n",
    "    \"\"\"Runs a proportional growth model.\n",
    "    \n",
    "    Adds TimeSeries to `system` as `results`.\n",
    "    \n",
    "    system: System object with t0, t_end, p0,\n",
    "            birth_rate and death_rate\n",
    "    \"\"\"\n",
    "    eggs = TimeSeries()\n",
    "    eggs[system.t0] = system.eggs_pop0\n",
    "    \n",
    "    larvae = TimeSeries()\n",
    "    larvae[system.t0] = system.larvae_pop0\n",
    "    \n",
    "    adults = TimeSeries()\n",
    "    adults[system.t0] = system.adult_pop0\n",
    "    \n",
    "    for t in linrange(system.t0, system.t_end):\n",
    "        birth_death(system,t)\n",
    "        #if system.births<system.birth_rate*adults[t]:\n",
    "        #    births= system.births\n",
    "        #else:\n",
    "        #    births=system.birth_rate*adults[t]\n",
    "        births = system.birth_rate * adults[t]\n",
    "        adult_deaths = system.death_rate * adults[t]\n",
    "        #larvae_deaths = system.death_rate * larvae[t]\n",
    "        new_larvae = system.hatch_time * eggs[t]\n",
    "        new_adults = system.mature_time * larvae[t]\n",
    "        \n",
    "        eggs[t+1] = eggs[t] + system.births - new_larvae\n",
    "        larvae[t+1] = larvae[t] + new_larvae - new_adults\n",
    "        adults[t+1] = adults[t] + new_adults - system.deaths\n",
    "        \n",
    "        if adults[t+1]>system.swarm_size:\n",
    "            adults[t+1]=.5*(adults[t] + new_adults - adult_deaths)\n",
    "        else:\n",
    "            adults[t+1] = adults[t] + new_adults - adult_deaths\n",
    "    \n",
    "    \n",
    "        \n",
    "    system.adults = adults\n",
    "    system.eggs = eggs\n",
    "    system.larvae = larvae"
   ]
  },
  {
   "cell_type": "code",
   "execution_count": null,
   "metadata": {
    "collapsed": true
   },
   "outputs": [],
   "source": []
  },
  {
   "cell_type": "code",
   "execution_count": 21,
   "metadata": {},
   "outputs": [
    {
     "name": "stdout",
     "output_type": "stream",
     "text": [
      "Saving figure to file BeeSimulation2.png\n"
     ]
    },
    {
     "data": {
      "image/png": "[encoded data removed]",
      "text/plain": [
       "<matplotlib.figure.Figure at 0x2847298a470>"
      ]
     },
     "metadata": {},
     "output_type": "display_data"
    }
   ],
   "source": [
    "bees.adult_pop0 = 15000\n",
    "run_simulation1(bees,Var_birth_death_rate2)\n",
    "plot_results(bees,title='Simulation of Hive Population')\n",
    "savefig('BeeSimulation2.png')"
   ]
  },
  {
   "cell_type": "markdown",
   "metadata": {
    "collapsed": true
   },
   "source": [
    "##### "
   ]
  },
  {
   "cell_type": "code",
   "execution_count": null,
   "metadata": {
    "collapsed": true
   },
   "outputs": [],
   "source": []
  },
  {
   "cell_type": "code",
   "execution_count": null,
   "metadata": {
    "collapsed": true
   },
   "outputs": [],
   "source": []
  },
  {
   "cell_type": "code",
   "execution_count": null,
   "metadata": {
    "collapsed": true
   },
   "outputs": [],
   "source": []
  }
 ],
 "metadata": {
  "kernelspec": {
   "display_name": "Python 3",
   "language": "python",
   "name": "python3"
  },
  "language_info": {
   "codemirror_mode": {
    "name": "ipython",
    "version": 3
   },
   "file_extension": ".py",
   "mimetype": "text/x-python",
   "name": "python",
   "nbconvert_exporter": "python",
   "pygments_lexer": "ipython3",
   "version": "3.6.1"
  }
 },
 "nbformat": 4,
 "nbformat_minor": 2
}
